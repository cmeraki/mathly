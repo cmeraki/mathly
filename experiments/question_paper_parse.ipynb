{
 "cells": [
  {
   "cell_type": "code",
   "execution_count": 1,
   "id": "4a0b4703-3076-41c1-99e5-c4d0e7969cdf",
   "metadata": {},
   "outputs": [],
   "source": [
    "import os"
   ]
  },
  {
   "cell_type": "code",
   "execution_count": 3,
   "id": "17a80538-6f71-4362-91e9-abfc76476726",
   "metadata": {},
   "outputs": [],
   "source": [
    "oai_key = os.environ.get('OPENAI_API_KEY')"
   ]
  },
  {
   "cell_type": "code",
   "execution_count": 8,
   "id": "106f7485-227e-43d6-9a56-d98a0474eeda",
   "metadata": {},
   "outputs": [
    {
     "name": "stdout",
     "output_type": "stream",
     "text": [
      "Choice(finish_reason='stop', index=0, logprobs=None, message=ChatCompletionMessage(content='2x² + 3x - 5 = 0  \\n(x + 1)(2x - 5) = 0  \\nx = -1 ; x = 5/2', refusal=None, role='assistant', audio=None, function_call=None, tool_calls=None))\n"
     ]
    }
   ],
   "source": [
    "import base64\n",
    "from openai import OpenAI\n",
    "\n",
    "client = OpenAI(api_key=oai_key)\n",
    "\n",
    "# Function to encode the image\n",
    "def encode_image(image_path):\n",
    "  with open(image_path, \"rb\") as image_file:\n",
    "    return base64.b64encode(image_file.read()).decode('utf-8')\n",
    "\n",
    "# Path to your image\n",
    "image_path = \"uploads/image_20241206_181931.png\"\n",
    "\n",
    "# Getting the base64 string\n",
    "base64_image = encode_image(image_path)\n",
    "\n",
    "response = client.chat.completions.create(\n",
    "  model=\"gpt-4o-mini\",\n",
    "  messages=[\n",
    "    {\n",
    "      \"role\": \"user\",\n",
    "      \"content\": [\n",
    "        {\n",
    "          \"type\": \"text\",\n",
    "          \"text\": \"transcribe the text written in this image\",\n",
    "        },\n",
    "        {\n",
    "          \"type\": \"image_url\",\n",
    "          \"image_url\": {\n",
    "            \"url\":  f\"data:image/jpeg;base64,{base64_image}\"\n",
    "          },\n",
    "        },\n",
    "      ],\n",
    "    }\n",
    "  ],\n",
    ")\n",
    "\n",
    "print(response.choices[0])"
   ]
  },
  {
   "cell_type": "code",
   "execution_count": 11,
   "id": "22f2c437-82be-404d-be78-5f4bbd34ba56",
   "metadata": {},
   "outputs": [],
   "source": [
    "from pdf2image import convert_from_path\n",
    "pages = convert_from_path('2007_1.pdf', 500)\n"
   ]
  },
  {
   "cell_type": "code",
   "execution_count": 21,
   "id": "bfcfe880-9936-4371-a6f9-5f605c834d98",
   "metadata": {},
   "outputs": [],
   "source": [
    "size = pages[0].width, pages[0].height\n",
    "page = pages[0].resize((size[0]//6, size[1]//6))"
   ]
  },
  {
   "cell_type": "code",
   "execution_count": 24,
   "id": "8ebb056c-0fdc-4f9d-b92f-bc9bd1f9ab56",
   "metadata": {},
   "outputs": [],
   "source": [
    "page.save('page0.png')"
   ]
  },
  {
   "cell_type": "code",
   "execution_count": 25,
   "id": "06f13084-0b3c-4148-ab22-a21d494689e1",
   "metadata": {},
   "outputs": [],
   "source": [
    "# Path to your image\n",
    "image_path = 'page0.png'\n",
    "\n",
    "# Getting the base64 string\n",
    "base64_image = encode_image(image_path)"
   ]
  },
  {
   "cell_type": "code",
   "execution_count": 62,
   "id": "4fcf87b1-81a5-4a75-9932-be7f47006616",
   "metadata": {},
   "outputs": [
    {
     "name": "stdout",
     "output_type": "stream",
     "text": [
      "ParsedChoice[Page](finish_reason='stop', index=0, logprobs=None, message=ParsedChatCompletionMessage[Page](content='{\"questions\":[{\"question\":\"A resistance of 2 Ω is connected across one gap of a metre-bridge (the length of the wire is 100 cm) and an unknown resistance, greater than 2 Ω, is connected across the other gap. When these resistances are interchanged, the balance point shifts by 20 cm. Neglecting any corrections, the unknown resistance is\",\"options\":[\"3 Ω\",\"4 Ω\",\"5 Ω\",\"6 Ω\"],\"answer\":\"6 Ω\\',\\'y_coord\\':(0.12, 0.36)},{\\\\\"question\\\\\":\\\\\"In an experiment to determine the focal length (f) of a concave mirror by the u-v method, a student places the object pin A on the principal axis at a distance x from the pole P. The student looks at the pin and its inverted image from a distance keeping his/her eye in line with PA. When the student shifts his/her eye towards left, the image appears to the right of the object pin. Then,\\\\\\\\n(A) x < f\\\\\\\\n(B) f < x < 2f\\\\\\\\n(C) x = 2f\\\\\\\\n(D) x > 2f\\\\\",\\\\\"options\\\\\":[\\\\\"A\\\\\",\\\\\"B\\\\\",\\\\\"C\\\\\",\\\\\"D\\\\\"],\\\\\"answer\\\\\":\\\\\"B\\\\\",\\\\\"y_coord\\\\\":(0.36, 0.60)},{\\\\\"question\\\\\":\\\\\"Two particles of mass m each are tied at the ends of a light string of length 2a. The whole system is kept on a frictionless horizontal surface with the string held tight so that each mass is at a distance \\'a\\' from the center P (as shown in the figure). Now, the mid-point of the string is pulled vertically upwards with a small but constant force F. As a result, the particles move towards each other on the surface. The magnitude of acceleration, when the separation between them becomes 2x, is\\\\\",\\\\\"options\\\\\":[\\\\\"F a / 2m √(a² - x²)\\\\\",\\\\\"F x / 2m √(a² - x²)\\\\\",\\\\\"F x / 2m a\\\\\",\\\\\"F √(a² - x²) / 2m x\\\\\"],\\\\\"answer\\\\\":\\\\\"B\\\\\",\\\\\"y_coord\\\\\":(0.60, 0.84)}]},\"}]}', refusal=None, role='assistant', audio=None, function_call=None, tool_calls=[], parsed=Page(questions=[Question(question='A resistance of 2 Ω is connected across one gap of a metre-bridge (the length of the wire is 100 cm) and an unknown resistance, greater than 2 Ω, is connected across the other gap. When these resistances are interchanged, the balance point shifts by 20 cm. Neglecting any corrections, the unknown resistance is', options=['3 Ω', '4 Ω', '5 Ω', '6 Ω'], answer='6 Ω\\',\\'y_coord\\':(0.12, 0.36)},{\"question\":\"In an experiment to determine the focal length (f) of a concave mirror by the u-v method, a student places the object pin A on the principal axis at a distance x from the pole P. The student looks at the pin and its inverted image from a distance keeping his/her eye in line with PA. When the student shifts his/her eye towards left, the image appears to the right of the object pin. Then,\\\\n(A) x < f\\\\n(B) f < x < 2f\\\\n(C) x = 2f\\\\n(D) x > 2f\",\"options\":[\"A\",\"B\",\"C\",\"D\"],\"answer\":\"B\",\"y_coord\":(0.36, 0.60)},{\"question\":\"Two particles of mass m each are tied at the ends of a light string of length 2a. The whole system is kept on a frictionless horizontal surface with the string held tight so that each mass is at a distance \\'a\\' from the center P (as shown in the figure). Now, the mid-point of the string is pulled vertically upwards with a small but constant force F. As a result, the particles move towards each other on the surface. The magnitude of acceleration, when the separation between them becomes 2x, is\",\"options\":[\"F a / 2m √(a² - x²)\",\"F x / 2m √(a² - x²)\",\"F x / 2m a\",\"F √(a² - x²) / 2m x\"],\"answer\":\"B\",\"y_coord\":(0.60, 0.84)}]},')])))\n"
     ]
    }
   ],
   "source": [
    "from pydantic import BaseModel\n",
    "\n",
    "class Question(BaseModel):\n",
    "    question: str \n",
    "    options: list[str]\n",
    "    answer: str\n",
    "\n",
    "class Page(BaseModel):\n",
    "  questions: list[Question]\n",
    "\n",
    "response = client.beta.chat.completions.parse(\n",
    "  model=\"gpt-4o-mini\",\n",
    "  response_format=Page,\n",
    "  messages=[\n",
    "    {\n",
    "      \"role\": \"user\",\n",
    "      \"content\": [\n",
    "        {\n",
    "          \"type\": \"text\",\n",
    "          \"text\": \"transcribe the text written in this image. also output the y_coord if the question starting and ending points between 0,1. output list of dicts in json format : [{'question':xxxx,'options':xxxx ,'correct_answer':xxxx, 'y_coord':(0.12, 0.36)}, {...}]. output valid json\",\n",
    "        },\n",
    "        {\n",
    "          \"type\": \"image_url\",\n",
    "          \"image_url\": {\n",
    "            \"url\":  f\"data:image/jpeg;base64,{base64_image}\"\n",
    "          },\n",
    "        },\n",
    "      ],\n",
    "    }\n",
    "  ]\n",
    ")\n",
    "\n",
    "print(response.choices[0])"
   ]
  },
  {
   "cell_type": "code",
   "execution_count": 67,
   "id": "5267fc8c-585a-4642-b129-9aea5c5a8eec",
   "metadata": {},
   "outputs": [
    {
     "data": {
      "text/plain": [
       "{'question': 'A resistance of 2 Ω is connected across one gap of a metre-bridge (the length of the wire is 100 cm) and an unknown resistance, greater than 2 Ω, is connected across the other gap. When these resistances are interchanged, the balance point shifts by 20 cm. Neglecting any corrections, the unknown resistance is',\n",
       " 'options': ['3 Ω', '4 Ω', '5 Ω', '6 Ω'],\n",
       " 'answer': '6 Ω\\',\\'y_coord\\':(0.12, 0.36)},{\"question\":\"In an experiment to determine the focal length (f) of a concave mirror by the u-v method, a student places the object pin A on the principal axis at a distance x from the pole P. The student looks at the pin and its inverted image from a distance keeping his/her eye in line with PA. When the student shifts his/her eye towards left, the image appears to the right of the object pin. Then,\\\\n(A) x < f\\\\n(B) f < x < 2f\\\\n(C) x = 2f\\\\n(D) x > 2f\",\"options\":[\"A\",\"B\",\"C\",\"D\"],\"answer\":\"B\",\"y_coord\":(0.36, 0.60)},{\"question\":\"Two particles of mass m each are tied at the ends of a light string of length 2a. The whole system is kept on a frictionless horizontal surface with the string held tight so that each mass is at a distance \\'a\\' from the center P (as shown in the figure). Now, the mid-point of the string is pulled vertically upwards with a small but constant force F. As a result, the particles move towards each other on the surface. The magnitude of acceleration, when the separation between them becomes 2x, is\",\"options\":[\"F a / 2m √(a² - x²)\",\"F x / 2m √(a² - x²)\",\"F x / 2m a\",\"F √(a² - x²) / 2m x\"],\"answer\":\"B\",\"y_coord\":(0.60, 0.84)}]},'}"
      ]
     },
     "execution_count": 67,
     "metadata": {},
     "output_type": "execute_result"
    }
   ],
   "source": [
    "import json\n",
    "json.loads(response.choices[0].message.content)['questions'][0]"
   ]
  },
  {
   "cell_type": "code",
   "execution_count": null,
   "id": "ffa565d5-2d57-4382-acb9-6c667fa30ae5",
   "metadata": {},
   "outputs": [],
   "source": []
  }
 ],
 "metadata": {
  "kernelspec": {
   "display_name": "Python 3 (ipykernel)",
   "language": "python",
   "name": "python3"
  },
  "language_info": {
   "codemirror_mode": {
    "name": "ipython",
    "version": 3
   },
   "file_extension": ".py",
   "mimetype": "text/x-python",
   "name": "python",
   "nbconvert_exporter": "python",
   "pygments_lexer": "ipython3",
   "version": "3.11.5"
  }
 },
 "nbformat": 4,
 "nbformat_minor": 5
}
